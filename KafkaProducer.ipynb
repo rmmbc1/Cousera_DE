{
 "cells": [
  {
   "cell_type": "code",
   "execution_count": 28,
   "id": "e2d3f594",
   "metadata": {},
   "outputs": [
    {
     "name": "stdout",
     "output_type": "stream",
     "text": [
      "Requirement already satisfied: kafka-python in /Users/renemendoza/anaconda3/lib/python3.11/site-packages (2.0.2)\n",
      "Note: you may need to restart the kernel to use updated packages.\n"
     ]
    }
   ],
   "source": [
    "pip install kafka-python"
   ]
  },
  {
   "cell_type": "code",
   "execution_count": 43,
   "id": "f19405f0",
   "metadata": {},
   "outputs": [],
   "source": [
    "import os\n",
    "import pandas as pd\n",
    "from kafka import KafkaProducer\n",
    "from time import sleep\n",
    "from json import dumps\n",
    "import json"
   ]
  },
  {
   "cell_type": "code",
   "execution_count": 44,
   "id": "b483a0e4",
   "metadata": {},
   "outputs": [],
   "source": [
    "producer = KafkaProducer(bootstrap_servers=['3.141.1.45:9092'], #change ip here\n",
    "                         value_serializer=lambda x: \n",
    "                         dumps(x).encode('utf-8'))"
   ]
  },
  {
   "cell_type": "code",
   "execution_count": 38,
   "id": "0c30b915",
   "metadata": {},
   "outputs": [
    {
     "data": {
      "text/plain": [
       "<kafka.producer.future.FutureRecordMetadata at 0x130960610>"
      ]
     },
     "execution_count": 38,
     "metadata": {},
     "output_type": "execute_result"
    }
   ],
   "source": [
    "producer.send('demo_testing2', value={'xxxx':'did it work?'})"
   ]
  },
  {
   "cell_type": "code",
   "execution_count": 45,
   "id": "cc8d45aa",
   "metadata": {},
   "outputs": [
    {
     "name": "stdout",
     "output_type": "stream",
     "text": [
      "Current working directory: /Users/renemendoza/Automation Projects/DE Project 2 - Kafka\n"
     ]
    }
   ],
   "source": [
    "current_directory = os.getcwd()\n",
    "print(\"Current working directory:\", current_directory)\n",
    "\n",
    "df = pd.read_csv(\"Spotify_data_20231031_005059.csv\")"
   ]
  },
  {
   "cell_type": "code",
   "execution_count": 46,
   "id": "113a2516",
   "metadata": {},
   "outputs": [
    {
     "data": {
      "text/html": [
       "<div>\n",
       "<style scoped>\n",
       "    .dataframe tbody tr th:only-of-type {\n",
       "        vertical-align: middle;\n",
       "    }\n",
       "\n",
       "    .dataframe tbody tr th {\n",
       "        vertical-align: top;\n",
       "    }\n",
       "\n",
       "    .dataframe thead th {\n",
       "        text-align: right;\n",
       "    }\n",
       "</style>\n",
       "<table border=\"1\" class=\"dataframe\">\n",
       "  <thead>\n",
       "    <tr style=\"text-align: right;\">\n",
       "      <th></th>\n",
       "      <th>Unnamed: 0</th>\n",
       "      <th>name</th>\n",
       "      <th>album</th>\n",
       "      <th>artist</th>\n",
       "      <th>release_date</th>\n",
       "      <th>length</th>\n",
       "      <th>popularity</th>\n",
       "      <th>danceability</th>\n",
       "      <th>acousticness</th>\n",
       "      <th>energy</th>\n",
       "      <th>instrumentalness</th>\n",
       "      <th>liveness</th>\n",
       "      <th>loudness</th>\n",
       "      <th>speechiness</th>\n",
       "      <th>tempo</th>\n",
       "      <th>time_signature</th>\n",
       "    </tr>\n",
       "  </thead>\n",
       "  <tbody>\n",
       "    <tr>\n",
       "      <th>0</th>\n",
       "      <td>0</td>\n",
       "      <td>Lonely Tonight</td>\n",
       "      <td>Live from Austin, Tx</td>\n",
       "      <td>The Selfless Lovers</td>\n",
       "      <td>2019-06-17</td>\n",
       "      <td>338425</td>\n",
       "      <td>2</td>\n",
       "      <td>0.718</td>\n",
       "      <td>0.770000</td>\n",
       "      <td>0.540</td>\n",
       "      <td>0.00333</td>\n",
       "      <td>0.1060</td>\n",
       "      <td>-8.208</td>\n",
       "      <td>0.0334</td>\n",
       "      <td>117.057</td>\n",
       "      <td>4</td>\n",
       "    </tr>\n",
       "    <tr>\n",
       "      <th>1</th>\n",
       "      <td>1</td>\n",
       "      <td>Soul Food</td>\n",
       "      <td>Live from Austin, Tx</td>\n",
       "      <td>The Selfless Lovers</td>\n",
       "      <td>2019-06-17</td>\n",
       "      <td>280921</td>\n",
       "      <td>1</td>\n",
       "      <td>0.654</td>\n",
       "      <td>0.711000</td>\n",
       "      <td>0.722</td>\n",
       "      <td>0.00357</td>\n",
       "      <td>0.0908</td>\n",
       "      <td>-7.951</td>\n",
       "      <td>0.0306</td>\n",
       "      <td>113.006</td>\n",
       "      <td>4</td>\n",
       "    </tr>\n",
       "    <tr>\n",
       "      <th>2</th>\n",
       "      <td>2</td>\n",
       "      <td>Disconnected</td>\n",
       "      <td>Strangeland (Deluxe Version)</td>\n",
       "      <td>Keane</td>\n",
       "      <td>2012-01-01</td>\n",
       "      <td>237893</td>\n",
       "      <td>42</td>\n",
       "      <td>0.327</td>\n",
       "      <td>0.015600</td>\n",
       "      <td>0.737</td>\n",
       "      <td>0.00000</td>\n",
       "      <td>0.1430</td>\n",
       "      <td>-5.673</td>\n",
       "      <td>0.0325</td>\n",
       "      <td>177.047</td>\n",
       "      <td>4</td>\n",
       "    </tr>\n",
       "    <tr>\n",
       "      <th>3</th>\n",
       "      <td>3</td>\n",
       "      <td>For Real</td>\n",
       "      <td>Morocco in My Head</td>\n",
       "      <td>Fantoms</td>\n",
       "      <td>2021-06-09</td>\n",
       "      <td>130500</td>\n",
       "      <td>1</td>\n",
       "      <td>0.675</td>\n",
       "      <td>0.012900</td>\n",
       "      <td>0.671</td>\n",
       "      <td>0.91100</td>\n",
       "      <td>0.2880</td>\n",
       "      <td>-5.668</td>\n",
       "      <td>0.0318</td>\n",
       "      <td>114.993</td>\n",
       "      <td>4</td>\n",
       "    </tr>\n",
       "    <tr>\n",
       "      <th>4</th>\n",
       "      <td>4</td>\n",
       "      <td>Out of the Black</td>\n",
       "      <td>Royal Blood</td>\n",
       "      <td>Royal Blood</td>\n",
       "      <td>2014-08-25</td>\n",
       "      <td>240572</td>\n",
       "      <td>55</td>\n",
       "      <td>0.520</td>\n",
       "      <td>0.000867</td>\n",
       "      <td>0.981</td>\n",
       "      <td>0.00177</td>\n",
       "      <td>0.1970</td>\n",
       "      <td>-2.750</td>\n",
       "      <td>0.0906</td>\n",
       "      <td>158.937</td>\n",
       "      <td>4</td>\n",
       "    </tr>\n",
       "  </tbody>\n",
       "</table>\n",
       "</div>"
      ],
      "text/plain": [
       "   Unnamed: 0              name                         album  \\\n",
       "0           0    Lonely Tonight          Live from Austin, Tx   \n",
       "1           1         Soul Food          Live from Austin, Tx   \n",
       "2           2      Disconnected  Strangeland (Deluxe Version)   \n",
       "3           3          For Real            Morocco in My Head   \n",
       "4           4  Out of the Black                   Royal Blood   \n",
       "\n",
       "                artist release_date  length  popularity  danceability  \\\n",
       "0  The Selfless Lovers   2019-06-17  338425           2         0.718   \n",
       "1  The Selfless Lovers   2019-06-17  280921           1         0.654   \n",
       "2                Keane   2012-01-01  237893          42         0.327   \n",
       "3              Fantoms   2021-06-09  130500           1         0.675   \n",
       "4          Royal Blood   2014-08-25  240572          55         0.520   \n",
       "\n",
       "   acousticness  energy  instrumentalness  liveness  loudness  speechiness  \\\n",
       "0      0.770000   0.540           0.00333    0.1060    -8.208       0.0334   \n",
       "1      0.711000   0.722           0.00357    0.0908    -7.951       0.0306   \n",
       "2      0.015600   0.737           0.00000    0.1430    -5.673       0.0325   \n",
       "3      0.012900   0.671           0.91100    0.2880    -5.668       0.0318   \n",
       "4      0.000867   0.981           0.00177    0.1970    -2.750       0.0906   \n",
       "\n",
       "     tempo  time_signature  \n",
       "0  117.057               4  \n",
       "1  113.006               4  \n",
       "2  177.047               4  \n",
       "3  114.993               4  \n",
       "4  158.937               4  "
      ]
     },
     "execution_count": 46,
     "metadata": {},
     "output_type": "execute_result"
    }
   ],
   "source": [
    "df.head()"
   ]
  },
  {
   "cell_type": "code",
   "execution_count": 47,
   "id": "baac259c",
   "metadata": {},
   "outputs": [
    {
     "data": {
      "text/html": [
       "<div>\n",
       "<style scoped>\n",
       "    .dataframe tbody tr th:only-of-type {\n",
       "        vertical-align: middle;\n",
       "    }\n",
       "\n",
       "    .dataframe tbody tr th {\n",
       "        vertical-align: top;\n",
       "    }\n",
       "\n",
       "    .dataframe thead th {\n",
       "        text-align: right;\n",
       "    }\n",
       "</style>\n",
       "<table border=\"1\" class=\"dataframe\">\n",
       "  <thead>\n",
       "    <tr style=\"text-align: right;\">\n",
       "      <th></th>\n",
       "      <th>Unnamed: 0</th>\n",
       "      <th>name</th>\n",
       "      <th>album</th>\n",
       "      <th>artist</th>\n",
       "      <th>release_date</th>\n",
       "      <th>length</th>\n",
       "      <th>popularity</th>\n",
       "      <th>danceability</th>\n",
       "      <th>acousticness</th>\n",
       "      <th>energy</th>\n",
       "      <th>instrumentalness</th>\n",
       "      <th>liveness</th>\n",
       "      <th>loudness</th>\n",
       "      <th>speechiness</th>\n",
       "      <th>tempo</th>\n",
       "      <th>time_signature</th>\n",
       "    </tr>\n",
       "  </thead>\n",
       "  <tbody>\n",
       "    <tr>\n",
       "      <th>0</th>\n",
       "      <td>0</td>\n",
       "      <td>Lonely Tonight</td>\n",
       "      <td>Live from Austin, Tx</td>\n",
       "      <td>The Selfless Lovers</td>\n",
       "      <td>2019-06-17</td>\n",
       "      <td>338425</td>\n",
       "      <td>2</td>\n",
       "      <td>0.718</td>\n",
       "      <td>0.77</td>\n",
       "      <td>0.54</td>\n",
       "      <td>0.00333</td>\n",
       "      <td>0.106</td>\n",
       "      <td>-8.208</td>\n",
       "      <td>0.0334</td>\n",
       "      <td>117.057</td>\n",
       "      <td>4</td>\n",
       "    </tr>\n",
       "  </tbody>\n",
       "</table>\n",
       "</div>"
      ],
      "text/plain": [
       "   Unnamed: 0            name                 album               artist  \\\n",
       "0           0  Lonely Tonight  Live from Austin, Tx  The Selfless Lovers   \n",
       "\n",
       "  release_date  length  popularity  danceability  acousticness  energy  \\\n",
       "0   2019-06-17  338425           2         0.718          0.77    0.54   \n",
       "\n",
       "   instrumentalness  liveness  loudness  speechiness    tempo  time_signature  \n",
       "0           0.00333     0.106    -8.208       0.0334  117.057               4  "
      ]
     },
     "execution_count": 47,
     "metadata": {},
     "output_type": "execute_result"
    }
   ],
   "source": [
    "df.sample(1)"
   ]
  },
  {
   "cell_type": "code",
   "execution_count": null,
   "id": "4c7ec0be",
   "metadata": {},
   "outputs": [],
   "source": [
    "while True:\n",
    "    dict_stock = df.sample(1).to_dict(orient=\"records\")[0]\n",
    "    producer.send('demo_testing2', value=dict_stock)\n",
    "    sleep(1)"
   ]
  },
  {
   "cell_type": "code",
   "execution_count": 42,
   "id": "ed71c0e4",
   "metadata": {},
   "outputs": [],
   "source": [
    "#producer.send('')\n",
    "\n",
    "producer.flush() #clear data from kafka server"
   ]
  },
  {
   "cell_type": "code",
   "execution_count": null,
   "id": "5991d10f",
   "metadata": {},
   "outputs": [],
   "source": []
  },
  {
   "cell_type": "code",
   "execution_count": null,
   "id": "3632d61d",
   "metadata": {},
   "outputs": [],
   "source": []
  }
 ],
 "metadata": {
  "kernelspec": {
   "display_name": "Python 3 (ipykernel)",
   "language": "python",
   "name": "python3"
  },
  "language_info": {
   "codemirror_mode": {
    "name": "ipython",
    "version": 3
   },
   "file_extension": ".py",
   "mimetype": "text/x-python",
   "name": "python",
   "nbconvert_exporter": "python",
   "pygments_lexer": "ipython3",
   "version": "3.11.4"
  }
 },
 "nbformat": 4,
 "nbformat_minor": 5
}
